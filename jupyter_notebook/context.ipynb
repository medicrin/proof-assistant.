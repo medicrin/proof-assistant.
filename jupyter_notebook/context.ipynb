{
 "cells": [
  {
   "attachments": {},
   "cell_type": "markdown",
   "metadata": {},
   "source": [
    "This notebook goes through the pipeline for generating context for definitions, suggested proof paths, and tips and tricks (intuition, other proofs, etc)"
   ]
  },
  {
   "cell_type": "code",
   "execution_count": 1,
   "metadata": {},
   "outputs": [
    {
     "name": "stdout",
     "output_type": "stream",
     "text": [
      "\u001b[33mWARNING: Skipping unstructured as it is not installed.\u001b[0m\u001b[33m\n",
      "\u001b[0mNote: you may need to restart the kernel to use updated packages.\n"
     ]
    }
   ],
   "source": [
    "%pip install unstructured==0.7.12\n",
    "%pip install langchain\n",
    "%pip install openai\n",
    "%pip install chromadb\n",
    "%pip install tiktoken"
   ]
  },
  {
   "cell_type": "code",
   "execution_count": 1,
   "metadata": {},
   "outputs": [],
   "source": [
    "\n",
    "import os\n",
    "from langchain.embeddings.openai import OpenAIEmbeddings\n",
    "from langchain.vectorstores import Chroma\n",
    "from langchain.text_splitter import CharacterTextSplitter\n",
    "from langchain.document_loaders import DirectoryLoader\n",
    "from langchain.chat_models import ChatOpenAI\n",
    "from langchain.schema import SystemMessage\n",
    "from langchain.prompts import ChatPromptTemplate, HumanMessagePromptTemplate, MessagesPlaceholder\n",
    "from langchain.chains.llm import LLMChain\n",
    "from langchain.memory import ConversationBufferMemory, VectorStoreRetrieverMemory\n",
    "from dotenv import load_dotenv\n",
    "\n",
    "load_dotenv() \n",
    "\n",
    "openai_api_key = os.getenv(\"OPENAI_API_KEY\")"
   ]
  },
  {
   "attachments": {},
   "cell_type": "markdown",
   "metadata": {},
   "source": [
    "The context module is given most recent proof steps\n",
    "\n",
    "1. It stores proof steps inside the prompt as well as the full proof, and memory is also fed recent proof steps or definitions\n",
    "2. Store proof steps but leave proof ambiguous, and memory is fed recent proof steps or definitons\n",
    "\n",
    "It is called either upon user input or after chat execution, \n",
    "\n",
    "Implement Choice 2:\n"
   ]
  },
  {
   "cell_type": "code",
   "execution_count": 3,
   "metadata": {},
   "outputs": [],
   "source": [
    "loader = DirectoryLoader('../doc/', glob='linear_map.pdf')\n",
    "documents = loader.load()"
   ]
  },
  {
   "cell_type": "code",
   "execution_count": 6,
   "metadata": {},
   "outputs": [
    {
     "ename": "PydanticImportError",
     "evalue": "`BaseSettings` has been moved to the `pydantic-settings` package. See https://docs.pydantic.dev/2.3/migration/#basesettings-has-moved-to-pydantic-settings for more details.\n\nFor further information visit https://errors.pydantic.dev/2.3/u/import-error",
     "output_type": "error",
     "traceback": [
      "\u001b[0;31m---------------------------------------------------------------------------\u001b[0m",
      "\u001b[0;31mPydanticImportError\u001b[0m                       Traceback (most recent call last)",
      "Cell \u001b[0;32mIn[6], line 1\u001b[0m\n\u001b[0;32m----> 1\u001b[0m \u001b[39mimport\u001b[39;00m \u001b[39mchromadb\u001b[39;00m\n\u001b[1;32m      3\u001b[0m \u001b[39m# Split Text and create Embeddings and create VectorStore\u001b[39;00m\n\u001b[1;32m      4\u001b[0m text_splitter \u001b[39m=\u001b[39m CharacterTextSplitter(chunk_size\u001b[39m=\u001b[39m\u001b[39m1000\u001b[39m, chunk_overlap\u001b[39m=\u001b[39m\u001b[39m0\u001b[39m)\n",
      "File \u001b[0;32m~/projects/proof-assistant/.conda/lib/python3.11/site-packages/chromadb/__init__.py:1\u001b[0m\n\u001b[0;32m----> 1\u001b[0m \u001b[39mimport\u001b[39;00m \u001b[39mchromadb\u001b[39;00m\u001b[39m.\u001b[39;00m\u001b[39mconfig\u001b[39;00m\n\u001b[1;32m      2\u001b[0m \u001b[39mimport\u001b[39;00m \u001b[39mlogging\u001b[39;00m\n\u001b[1;32m      3\u001b[0m \u001b[39mfrom\u001b[39;00m \u001b[39mchromadb\u001b[39;00m\u001b[39m.\u001b[39;00m\u001b[39mtelemetry\u001b[39;00m\u001b[39m.\u001b[39;00m\u001b[39mevents\u001b[39;00m \u001b[39mimport\u001b[39;00m ClientStartEvent\n",
      "File \u001b[0;32m~/projects/proof-assistant/.conda/lib/python3.11/site-packages/chromadb/config.py:1\u001b[0m\n\u001b[0;32m----> 1\u001b[0m \u001b[39mfrom\u001b[39;00m \u001b[39mpydantic\u001b[39;00m \u001b[39mimport\u001b[39;00m BaseSettings\n\u001b[1;32m      2\u001b[0m \u001b[39mfrom\u001b[39;00m \u001b[39mtyping\u001b[39;00m \u001b[39mimport\u001b[39;00m Optional, List, Any, Dict, TypeVar, Set, cast, Iterable, Type\n\u001b[1;32m      3\u001b[0m \u001b[39mfrom\u001b[39;00m \u001b[39mtyping_extensions\u001b[39;00m \u001b[39mimport\u001b[39;00m Literal\n",
      "File \u001b[0;32m~/projects/proof-assistant/.conda/lib/python3.11/site-packages/pydantic/__init__.py:210\u001b[0m, in \u001b[0;36m__getattr__\u001b[0;34m(attr_name)\u001b[0m\n\u001b[1;32m    208\u001b[0m dynamic_attr \u001b[39m=\u001b[39m _dynamic_imports\u001b[39m.\u001b[39mget(attr_name)\n\u001b[1;32m    209\u001b[0m \u001b[39mif\u001b[39;00m dynamic_attr \u001b[39mis\u001b[39;00m \u001b[39mNone\u001b[39;00m:\n\u001b[0;32m--> 210\u001b[0m     \u001b[39mreturn\u001b[39;00m _getattr_migration(attr_name)\n\u001b[1;32m    212\u001b[0m \u001b[39mfrom\u001b[39;00m \u001b[39mimportlib\u001b[39;00m \u001b[39mimport\u001b[39;00m import_module\n\u001b[1;32m    214\u001b[0m module \u001b[39m=\u001b[39m import_module(_dynamic_imports[attr_name], package\u001b[39m=\u001b[39m__package__)\n",
      "File \u001b[0;32m~/projects/proof-assistant/.conda/lib/python3.11/site-packages/pydantic/_migration.py:289\u001b[0m, in \u001b[0;36mgetattr_migration.<locals>.wrapper\u001b[0;34m(name)\u001b[0m\n\u001b[1;32m    287\u001b[0m     \u001b[39mreturn\u001b[39;00m import_string(REDIRECT_TO_V1[import_path])\n\u001b[1;32m    288\u001b[0m \u001b[39mif\u001b[39;00m import_path \u001b[39m==\u001b[39m \u001b[39m'\u001b[39m\u001b[39mpydantic:BaseSettings\u001b[39m\u001b[39m'\u001b[39m:\n\u001b[0;32m--> 289\u001b[0m     \u001b[39mraise\u001b[39;00m PydanticImportError(\n\u001b[1;32m    290\u001b[0m         \u001b[39m'\u001b[39m\u001b[39m`BaseSettings` has been moved to the `pydantic-settings` package. \u001b[39m\u001b[39m'\u001b[39m\n\u001b[1;32m    291\u001b[0m         \u001b[39mf\u001b[39m\u001b[39m'\u001b[39m\u001b[39mSee https://docs.pydantic.dev/\u001b[39m\u001b[39m{\u001b[39;00mversion_short()\u001b[39m}\u001b[39;00m\u001b[39m/migration/#basesettings-has-moved-to-pydantic-settings \u001b[39m\u001b[39m'\u001b[39m\n\u001b[1;32m    292\u001b[0m         \u001b[39m'\u001b[39m\u001b[39mfor more details.\u001b[39m\u001b[39m'\u001b[39m\n\u001b[1;32m    293\u001b[0m     )\n\u001b[1;32m    294\u001b[0m \u001b[39mif\u001b[39;00m import_path \u001b[39min\u001b[39;00m REMOVED_IN_V2:\n\u001b[1;32m    295\u001b[0m     \u001b[39mraise\u001b[39;00m PydanticImportError(\u001b[39mf\u001b[39m\u001b[39m'\u001b[39m\u001b[39m`\u001b[39m\u001b[39m{\u001b[39;00mimport_path\u001b[39m}\u001b[39;00m\u001b[39m` has been removed in V2.\u001b[39m\u001b[39m'\u001b[39m)\n",
      "\u001b[0;31mPydanticImportError\u001b[0m: `BaseSettings` has been moved to the `pydantic-settings` package. See https://docs.pydantic.dev/2.3/migration/#basesettings-has-moved-to-pydantic-settings for more details.\n\nFor further information visit https://errors.pydantic.dev/2.3/u/import-error"
     ]
    }
   ],
   "source": [
    "\n",
    "# Split Text and create Embeddings and create VectorStore\n",
    "text_splitter = CharacterTextSplitter(chunk_size=1000, chunk_overlap=0)\n",
    "texts = text_splitter.split_documents(documents)\n",
    "# Create embeddings\n",
    "embeddings = OpenAIEmbeddings(openai_api_key=openai_api_key)\n",
    "# load it into Chroma\n",
    "vectorstore = Chroma.from_documents(texts, embeddings)\n",
    "\n",
    "# qa = VectorDBQA.from_chain_type(llm=OpenAI(openai_api_key = openai_api_key), chain_type=\"stuff\", vectorstore=vectorstore)\n"
   ]
  },
  {
   "cell_type": "code",
   "execution_count": 14,
   "metadata": {},
   "outputs": [],
   "source": [
    "retriever = vectorstore.as_retriever()\n",
    "# For retrieving relevant context for definitions, proof suggestions, etc.\n",
    "# NOT used for referencing direct definitions, proofs, etc. That will be done with vectorstore similarity search\n",
    "memory = VectorStoreRetrieverMemory(memory_key=\"context\",return_messages=True, retriever=retriever)\n",
    "\n",
    "# Generate chain of prompts: recursively loop through each relevent definition, proof, or other context\n",
    "#1 generate definition, intuition, and example.\n",
    "#2 find terms attached to the definition, parse the definition, and repeat #1 for each term\n",
    "prompt = ChatPromptTemplate.from_messages([\n",
    "    SystemMessage(content=\"Please provide context or definitions for most uncommon words\"), # The persistent system prompt\n",
    "    MessagesPlaceholder(variable_name=\"context\"), # Where the memory will be stored.\n",
    "    HumanMessagePromptTemplate.from_template(\"{human_input}\"), # Where the human input will injectd\n",
    "])\n",
    "\n",
    "llm = ChatOpenAI(temperature=0, model_name=\"gpt-3.5-turbo-16k\", openai_api_key=openai_api_key)\n",
    "llm_chain = LLMChain(llm=llm, prompt=prompt, memory=memory)\n",
    "# qa = ConversationalRetrievalChain.from_llm(llm, retriever=retriever, memory=memory)"
   ]
  },
  {
   "cell_type": "code",
   "execution_count": 15,
   "metadata": {},
   "outputs": [
    {
     "ename": "ValueError",
     "evalue": "variable chat_history should be a list of base messages, got 3.2 Deﬁnition linear map\n\nA linear map from V to W is a function T properties:\n\nV\n\nW with the following\n\nW\n\n!\n\nadditivity T .u\n\nv/\n\nT u\n\nT v for all u; v\n\nV ;\n\nC homogeneity T .!v/\n\nD\n\nC\n\n2\n\n!.T v/ for all !\n\nV.\n\nF and all v\n\nD\n\n2\n\n2\n\nNote that for linear maps we often use the notation T v as well as the more standard functional notation T .v/.\n\nSome mathematicians use the term linear transformation, which means the same as linear map.\n\n.V; W /\n\n3.3 Notation\n\nL\n\nThe set of all linear maps from V to W is denoted\n\n.V; W /.\n\nL\n\nLet’s look at some examples of linear maps. Make sure you verify that\n\neach of the functions deﬁned below is indeed a linear map:\n\n3.4 Example linear maps\n\nzero In addition to its other uses, we let the symbol 0 denote the function that takes each element of some vector space to the additive identity of another vector .V; W / is deﬁned by space. To be speciﬁc, 0\n\n2 L\n\n0v\n\n0:\n3.2 Deﬁnition linear map\n\nA linear map from V to W is a function T properties:\n\nV\n\nW with the following\n\nW\n\n!\n\nadditivity T .u\n\nv/\n\nT u\n\nT v for all u; v\n\nV ;\n\nC homogeneity T .!v/\n\nD\n\nC\n\n2\n\n!.T v/ for all !\n\nV.\n\nF and all v\n\nD\n\n2\n\n2\n\nNote that for linear maps we often use the notation T v as well as the more standard functional notation T .v/.\n\nSome mathematicians use the term linear transformation, which means the same as linear map.\n\n.V; W /\n\n3.3 Notation\n\nL\n\nThe set of all linear maps from V to W is denoted\n\n.V; W /.\n\nL\n\nLet’s look at some examples of linear maps. Make sure you verify that\n\neach of the functions deﬁned below is indeed a linear map:\n\n3.4 Example linear maps\n\nzero In addition to its other uses, we let the symbol 0 denote the function that takes each element of some vector space to the additive identity of another vector .V; W / is deﬁned by space. To be speciﬁc, 0\n\n2 L\n\n0v\n\n0:\n3.2 Deﬁnition linear map\n\nA linear map from V to W is a function T properties:\n\nV\n\nW with the following\n\nW\n\n!\n\nadditivity T .u\n\nv/\n\nT u\n\nT v for all u; v\n\nV ;\n\nC homogeneity T .!v/\n\nD\n\nC\n\n2\n\n!.T v/ for all !\n\nV.\n\nF and all v\n\nD\n\n2\n\n2\n\nNote that for linear maps we often use the notation T v as well as the more standard functional notation T .v/.\n\nSome mathematicians use the term linear transformation, which means the same as linear map.\n\n.V; W /\n\n3.3 Notation\n\nL\n\nThe set of all linear maps from V to W is denoted\n\n.V; W /.\n\nL\n\nLet’s look at some examples of linear maps. Make sure you verify that\n\neach of the functions deﬁned below is indeed a linear map:\n\n3.4 Example linear maps\n\nzero In addition to its other uses, we let the symbol 0 denote the function that takes each element of some vector space to the additive identity of another vector .V; W / is deﬁned by space. To be speciﬁc, 0\n\n2 L\n\n0v\n\n0:\n3.2 Deﬁnition linear map\n\nA linear map from V to W is a function T properties:\n\nV\n\nW with the following\n\nW\n\n!\n\nadditivity T .u\n\nv/\n\nT u\n\nT v for all u; v\n\nV ;\n\nC homogeneity T .!v/\n\nD\n\nC\n\n2\n\n!.T v/ for all !\n\nV.\n\nF and all v\n\nD\n\n2\n\n2\n\nNote that for linear maps we often use the notation T v as well as the more standard functional notation T .v/.\n\nSome mathematicians use the term linear transformation, which means the same as linear map.\n\n.V; W /\n\n3.3 Notation\n\nL\n\nThe set of all linear maps from V to W is denoted\n\n.V; W /.\n\nL\n\nLet’s look at some examples of linear maps. Make sure you verify that\n\neach of the functions deﬁned below is indeed a linear map:\n\n3.4 Example linear maps\n\nzero In addition to its other uses, we let the symbol 0 denote the function that takes each element of some vector space to the additive identity of another vector .V; W / is deﬁned by space. To be speciﬁc, 0\n\n2 L\n\n0v\n\n0:",
     "output_type": "error",
     "traceback": [
      "\u001b[0;31m---------------------------------------------------------------------------\u001b[0m",
      "\u001b[0;31mValueError\u001b[0m                                Traceback (most recent call last)",
      "Cell \u001b[0;32mIn[15], line 2\u001b[0m\n\u001b[1;32m      1\u001b[0m query \u001b[39m=\u001b[39m \u001b[39m\"\u001b[39m\u001b[39mWhat is a linear map\u001b[39m\u001b[39m\"\u001b[39m\n\u001b[0;32m----> 2\u001b[0m llm_chain\u001b[39m.\u001b[39;49mrun(query)\n",
      "File \u001b[0;32m~/projects/supabase-next.js/notebook/lib/python3.11/site-packages/langchain/chains/base.py:475\u001b[0m, in \u001b[0;36mChain.run\u001b[0;34m(self, callbacks, tags, metadata, *args, **kwargs)\u001b[0m\n\u001b[1;32m    473\u001b[0m     \u001b[39mif\u001b[39;00m \u001b[39mlen\u001b[39m(args) \u001b[39m!=\u001b[39m \u001b[39m1\u001b[39m:\n\u001b[1;32m    474\u001b[0m         \u001b[39mraise\u001b[39;00m \u001b[39mValueError\u001b[39;00m(\u001b[39m\"\u001b[39m\u001b[39m`run` supports only one positional argument.\u001b[39m\u001b[39m\"\u001b[39m)\n\u001b[0;32m--> 475\u001b[0m     \u001b[39mreturn\u001b[39;00m \u001b[39mself\u001b[39;49m(args[\u001b[39m0\u001b[39;49m], callbacks\u001b[39m=\u001b[39;49mcallbacks, tags\u001b[39m=\u001b[39;49mtags, metadata\u001b[39m=\u001b[39;49mmetadata)[\n\u001b[1;32m    476\u001b[0m         _output_key\n\u001b[1;32m    477\u001b[0m     ]\n\u001b[1;32m    479\u001b[0m \u001b[39mif\u001b[39;00m kwargs \u001b[39mand\u001b[39;00m \u001b[39mnot\u001b[39;00m args:\n\u001b[1;32m    480\u001b[0m     \u001b[39mreturn\u001b[39;00m \u001b[39mself\u001b[39m(kwargs, callbacks\u001b[39m=\u001b[39mcallbacks, tags\u001b[39m=\u001b[39mtags, metadata\u001b[39m=\u001b[39mmetadata)[\n\u001b[1;32m    481\u001b[0m         _output_key\n\u001b[1;32m    482\u001b[0m     ]\n",
      "File \u001b[0;32m~/projects/supabase-next.js/notebook/lib/python3.11/site-packages/langchain/chains/base.py:282\u001b[0m, in \u001b[0;36mChain.__call__\u001b[0;34m(self, inputs, return_only_outputs, callbacks, tags, metadata, include_run_info)\u001b[0m\n\u001b[1;32m    280\u001b[0m \u001b[39mexcept\u001b[39;00m (\u001b[39mKeyboardInterrupt\u001b[39;00m, \u001b[39mException\u001b[39;00m) \u001b[39mas\u001b[39;00m e:\n\u001b[1;32m    281\u001b[0m     run_manager\u001b[39m.\u001b[39mon_chain_error(e)\n\u001b[0;32m--> 282\u001b[0m     \u001b[39mraise\u001b[39;00m e\n\u001b[1;32m    283\u001b[0m run_manager\u001b[39m.\u001b[39mon_chain_end(outputs)\n\u001b[1;32m    284\u001b[0m final_outputs: Dict[\u001b[39mstr\u001b[39m, Any] \u001b[39m=\u001b[39m \u001b[39mself\u001b[39m\u001b[39m.\u001b[39mprep_outputs(\n\u001b[1;32m    285\u001b[0m     inputs, outputs, return_only_outputs\n\u001b[1;32m    286\u001b[0m )\n",
      "File \u001b[0;32m~/projects/supabase-next.js/notebook/lib/python3.11/site-packages/langchain/chains/base.py:276\u001b[0m, in \u001b[0;36mChain.__call__\u001b[0;34m(self, inputs, return_only_outputs, callbacks, tags, metadata, include_run_info)\u001b[0m\n\u001b[1;32m    270\u001b[0m run_manager \u001b[39m=\u001b[39m callback_manager\u001b[39m.\u001b[39mon_chain_start(\n\u001b[1;32m    271\u001b[0m     dumpd(\u001b[39mself\u001b[39m),\n\u001b[1;32m    272\u001b[0m     inputs,\n\u001b[1;32m    273\u001b[0m )\n\u001b[1;32m    274\u001b[0m \u001b[39mtry\u001b[39;00m:\n\u001b[1;32m    275\u001b[0m     outputs \u001b[39m=\u001b[39m (\n\u001b[0;32m--> 276\u001b[0m         \u001b[39mself\u001b[39;49m\u001b[39m.\u001b[39;49m_call(inputs, run_manager\u001b[39m=\u001b[39;49mrun_manager)\n\u001b[1;32m    277\u001b[0m         \u001b[39mif\u001b[39;00m new_arg_supported\n\u001b[1;32m    278\u001b[0m         \u001b[39melse\u001b[39;00m \u001b[39mself\u001b[39m\u001b[39m.\u001b[39m_call(inputs)\n\u001b[1;32m    279\u001b[0m     )\n\u001b[1;32m    280\u001b[0m \u001b[39mexcept\u001b[39;00m (\u001b[39mKeyboardInterrupt\u001b[39;00m, \u001b[39mException\u001b[39;00m) \u001b[39mas\u001b[39;00m e:\n\u001b[1;32m    281\u001b[0m     run_manager\u001b[39m.\u001b[39mon_chain_error(e)\n",
      "File \u001b[0;32m~/projects/supabase-next.js/notebook/lib/python3.11/site-packages/langchain/chains/llm.py:91\u001b[0m, in \u001b[0;36mLLMChain._call\u001b[0;34m(self, inputs, run_manager)\u001b[0m\n\u001b[1;32m     86\u001b[0m \u001b[39mdef\u001b[39;00m \u001b[39m_call\u001b[39m(\n\u001b[1;32m     87\u001b[0m     \u001b[39mself\u001b[39m,\n\u001b[1;32m     88\u001b[0m     inputs: Dict[\u001b[39mstr\u001b[39m, Any],\n\u001b[1;32m     89\u001b[0m     run_manager: Optional[CallbackManagerForChainRun] \u001b[39m=\u001b[39m \u001b[39mNone\u001b[39;00m,\n\u001b[1;32m     90\u001b[0m ) \u001b[39m-\u001b[39m\u001b[39m>\u001b[39m Dict[\u001b[39mstr\u001b[39m, \u001b[39mstr\u001b[39m]:\n\u001b[0;32m---> 91\u001b[0m     response \u001b[39m=\u001b[39m \u001b[39mself\u001b[39;49m\u001b[39m.\u001b[39;49mgenerate([inputs], run_manager\u001b[39m=\u001b[39;49mrun_manager)\n\u001b[1;32m     92\u001b[0m     \u001b[39mreturn\u001b[39;00m \u001b[39mself\u001b[39m\u001b[39m.\u001b[39mcreate_outputs(response)[\u001b[39m0\u001b[39m]\n",
      "File \u001b[0;32m~/projects/supabase-next.js/notebook/lib/python3.11/site-packages/langchain/chains/llm.py:100\u001b[0m, in \u001b[0;36mLLMChain.generate\u001b[0;34m(self, input_list, run_manager)\u001b[0m\n\u001b[1;32m     94\u001b[0m \u001b[39mdef\u001b[39;00m \u001b[39mgenerate\u001b[39m(\n\u001b[1;32m     95\u001b[0m     \u001b[39mself\u001b[39m,\n\u001b[1;32m     96\u001b[0m     input_list: List[Dict[\u001b[39mstr\u001b[39m, Any]],\n\u001b[1;32m     97\u001b[0m     run_manager: Optional[CallbackManagerForChainRun] \u001b[39m=\u001b[39m \u001b[39mNone\u001b[39;00m,\n\u001b[1;32m     98\u001b[0m ) \u001b[39m-\u001b[39m\u001b[39m>\u001b[39m LLMResult:\n\u001b[1;32m     99\u001b[0m \u001b[39m    \u001b[39m\u001b[39m\"\"\"Generate LLM result from inputs.\"\"\"\u001b[39;00m\n\u001b[0;32m--> 100\u001b[0m     prompts, stop \u001b[39m=\u001b[39m \u001b[39mself\u001b[39;49m\u001b[39m.\u001b[39;49mprep_prompts(input_list, run_manager\u001b[39m=\u001b[39;49mrun_manager)\n\u001b[1;32m    101\u001b[0m     \u001b[39mreturn\u001b[39;00m \u001b[39mself\u001b[39m\u001b[39m.\u001b[39mllm\u001b[39m.\u001b[39mgenerate_prompt(\n\u001b[1;32m    102\u001b[0m         prompts,\n\u001b[1;32m    103\u001b[0m         stop,\n\u001b[1;32m    104\u001b[0m         callbacks\u001b[39m=\u001b[39mrun_manager\u001b[39m.\u001b[39mget_child() \u001b[39mif\u001b[39;00m run_manager \u001b[39melse\u001b[39;00m \u001b[39mNone\u001b[39;00m,\n\u001b[1;32m    105\u001b[0m         \u001b[39m*\u001b[39m\u001b[39m*\u001b[39m\u001b[39mself\u001b[39m\u001b[39m.\u001b[39mllm_kwargs,\n\u001b[1;32m    106\u001b[0m     )\n",
      "File \u001b[0;32m~/projects/supabase-next.js/notebook/lib/python3.11/site-packages/langchain/chains/llm.py:136\u001b[0m, in \u001b[0;36mLLMChain.prep_prompts\u001b[0;34m(self, input_list, run_manager)\u001b[0m\n\u001b[1;32m    134\u001b[0m \u001b[39mfor\u001b[39;00m inputs \u001b[39min\u001b[39;00m input_list:\n\u001b[1;32m    135\u001b[0m     selected_inputs \u001b[39m=\u001b[39m {k: inputs[k] \u001b[39mfor\u001b[39;00m k \u001b[39min\u001b[39;00m \u001b[39mself\u001b[39m\u001b[39m.\u001b[39mprompt\u001b[39m.\u001b[39minput_variables}\n\u001b[0;32m--> 136\u001b[0m     prompt \u001b[39m=\u001b[39m \u001b[39mself\u001b[39;49m\u001b[39m.\u001b[39;49mprompt\u001b[39m.\u001b[39;49mformat_prompt(\u001b[39m*\u001b[39;49m\u001b[39m*\u001b[39;49mselected_inputs)\n\u001b[1;32m    137\u001b[0m     _colored_text \u001b[39m=\u001b[39m get_colored_text(prompt\u001b[39m.\u001b[39mto_string(), \u001b[39m\"\u001b[39m\u001b[39mgreen\u001b[39m\u001b[39m\"\u001b[39m)\n\u001b[1;32m    138\u001b[0m     _text \u001b[39m=\u001b[39m \u001b[39m\"\u001b[39m\u001b[39mPrompt after formatting:\u001b[39m\u001b[39m\\n\u001b[39;00m\u001b[39m\"\u001b[39m \u001b[39m+\u001b[39m _colored_text\n",
      "File \u001b[0;32m~/projects/supabase-next.js/notebook/lib/python3.11/site-packages/langchain/prompts/chat.py:332\u001b[0m, in \u001b[0;36mBaseChatPromptTemplate.format_prompt\u001b[0;34m(self, **kwargs)\u001b[0m\n\u001b[1;32m    323\u001b[0m \u001b[39mdef\u001b[39;00m \u001b[39mformat_prompt\u001b[39m(\u001b[39mself\u001b[39m, \u001b[39m*\u001b[39m\u001b[39m*\u001b[39mkwargs: Any) \u001b[39m-\u001b[39m\u001b[39m>\u001b[39m PromptValue:\n\u001b[1;32m    324\u001b[0m \u001b[39m    \u001b[39m\u001b[39m\"\"\"\u001b[39;00m\n\u001b[1;32m    325\u001b[0m \u001b[39m    Format prompt. Should return a PromptValue.\u001b[39;00m\n\u001b[1;32m    326\u001b[0m \u001b[39m    Args:\u001b[39;00m\n\u001b[0;32m   (...)\u001b[0m\n\u001b[1;32m    330\u001b[0m \u001b[39m        PromptValue.\u001b[39;00m\n\u001b[1;32m    331\u001b[0m \u001b[39m    \"\"\"\u001b[39;00m\n\u001b[0;32m--> 332\u001b[0m     messages \u001b[39m=\u001b[39m \u001b[39mself\u001b[39;49m\u001b[39m.\u001b[39;49mformat_messages(\u001b[39m*\u001b[39;49m\u001b[39m*\u001b[39;49mkwargs)\n\u001b[1;32m    333\u001b[0m     \u001b[39mreturn\u001b[39;00m ChatPromptValue(messages\u001b[39m=\u001b[39mmessages)\n",
      "File \u001b[0;32m~/projects/supabase-next.js/notebook/lib/python3.11/site-packages/langchain/prompts/chat.py:574\u001b[0m, in \u001b[0;36mChatPromptTemplate.format_messages\u001b[0;34m(self, **kwargs)\u001b[0m\n\u001b[1;32m    566\u001b[0m \u001b[39melif\u001b[39;00m \u001b[39misinstance\u001b[39m(\n\u001b[1;32m    567\u001b[0m     message_template, (BaseMessagePromptTemplate, BaseChatPromptTemplate)\n\u001b[1;32m    568\u001b[0m ):\n\u001b[1;32m    569\u001b[0m     rel_params \u001b[39m=\u001b[39m {\n\u001b[1;32m    570\u001b[0m         k: v\n\u001b[1;32m    571\u001b[0m         \u001b[39mfor\u001b[39;00m k, v \u001b[39min\u001b[39;00m kwargs\u001b[39m.\u001b[39mitems()\n\u001b[1;32m    572\u001b[0m         \u001b[39mif\u001b[39;00m k \u001b[39min\u001b[39;00m message_template\u001b[39m.\u001b[39minput_variables\n\u001b[1;32m    573\u001b[0m     }\n\u001b[0;32m--> 574\u001b[0m     message \u001b[39m=\u001b[39m message_template\u001b[39m.\u001b[39;49mformat_messages(\u001b[39m*\u001b[39;49m\u001b[39m*\u001b[39;49mrel_params)\n\u001b[1;32m    575\u001b[0m     result\u001b[39m.\u001b[39mextend(message)\n\u001b[1;32m    576\u001b[0m \u001b[39melse\u001b[39;00m:\n",
      "File \u001b[0;32m~/projects/supabase-next.js/notebook/lib/python3.11/site-packages/langchain/prompts/chat.py:101\u001b[0m, in \u001b[0;36mMessagesPlaceholder.format_messages\u001b[0;34m(self, **kwargs)\u001b[0m\n\u001b[1;32m     99\u001b[0m value \u001b[39m=\u001b[39m kwargs[\u001b[39mself\u001b[39m\u001b[39m.\u001b[39mvariable_name]\n\u001b[1;32m    100\u001b[0m \u001b[39mif\u001b[39;00m \u001b[39mnot\u001b[39;00m \u001b[39misinstance\u001b[39m(value, \u001b[39mlist\u001b[39m):\n\u001b[0;32m--> 101\u001b[0m     \u001b[39mraise\u001b[39;00m \u001b[39mValueError\u001b[39;00m(\n\u001b[1;32m    102\u001b[0m         \u001b[39mf\u001b[39m\u001b[39m\"\u001b[39m\u001b[39mvariable \u001b[39m\u001b[39m{\u001b[39;00m\u001b[39mself\u001b[39m\u001b[39m.\u001b[39mvariable_name\u001b[39m}\u001b[39;00m\u001b[39m should be a list of base messages, \u001b[39m\u001b[39m\"\u001b[39m\n\u001b[1;32m    103\u001b[0m         \u001b[39mf\u001b[39m\u001b[39m\"\u001b[39m\u001b[39mgot \u001b[39m\u001b[39m{\u001b[39;00mvalue\u001b[39m}\u001b[39;00m\u001b[39m\"\u001b[39m\n\u001b[1;32m    104\u001b[0m     )\n\u001b[1;32m    105\u001b[0m \u001b[39mfor\u001b[39;00m v \u001b[39min\u001b[39;00m value:\n\u001b[1;32m    106\u001b[0m     \u001b[39mif\u001b[39;00m \u001b[39mnot\u001b[39;00m \u001b[39misinstance\u001b[39m(v, BaseMessage):\n",
      "\u001b[0;31mValueError\u001b[0m: variable chat_history should be a list of base messages, got 3.2 Deﬁnition linear map\n\nA linear map from V to W is a function T properties:\n\nV\n\nW with the following\n\nW\n\n!\n\nadditivity T .u\n\nv/\n\nT u\n\nT v for all u; v\n\nV ;\n\nC homogeneity T .!v/\n\nD\n\nC\n\n2\n\n!.T v/ for all !\n\nV.\n\nF and all v\n\nD\n\n2\n\n2\n\nNote that for linear maps we often use the notation T v as well as the more standard functional notation T .v/.\n\nSome mathematicians use the term linear transformation, which means the same as linear map.\n\n.V; W /\n\n3.3 Notation\n\nL\n\nThe set of all linear maps from V to W is denoted\n\n.V; W /.\n\nL\n\nLet’s look at some examples of linear maps. Make sure you verify that\n\neach of the functions deﬁned below is indeed a linear map:\n\n3.4 Example linear maps\n\nzero In addition to its other uses, we let the symbol 0 denote the function that takes each element of some vector space to the additive identity of another vector .V; W / is deﬁned by space. To be speciﬁc, 0\n\n2 L\n\n0v\n\n0:\n3.2 Deﬁnition linear map\n\nA linear map from V to W is a function T properties:\n\nV\n\nW with the following\n\nW\n\n!\n\nadditivity T .u\n\nv/\n\nT u\n\nT v for all u; v\n\nV ;\n\nC homogeneity T .!v/\n\nD\n\nC\n\n2\n\n!.T v/ for all !\n\nV.\n\nF and all v\n\nD\n\n2\n\n2\n\nNote that for linear maps we often use the notation T v as well as the more standard functional notation T .v/.\n\nSome mathematicians use the term linear transformation, which means the same as linear map.\n\n.V; W /\n\n3.3 Notation\n\nL\n\nThe set of all linear maps from V to W is denoted\n\n.V; W /.\n\nL\n\nLet’s look at some examples of linear maps. Make sure you verify that\n\neach of the functions deﬁned below is indeed a linear map:\n\n3.4 Example linear maps\n\nzero In addition to its other uses, we let the symbol 0 denote the function that takes each element of some vector space to the additive identity of another vector .V; W / is deﬁned by space. To be speciﬁc, 0\n\n2 L\n\n0v\n\n0:\n3.2 Deﬁnition linear map\n\nA linear map from V to W is a function T properties:\n\nV\n\nW with the following\n\nW\n\n!\n\nadditivity T .u\n\nv/\n\nT u\n\nT v for all u; v\n\nV ;\n\nC homogeneity T .!v/\n\nD\n\nC\n\n2\n\n!.T v/ for all !\n\nV.\n\nF and all v\n\nD\n\n2\n\n2\n\nNote that for linear maps we often use the notation T v as well as the more standard functional notation T .v/.\n\nSome mathematicians use the term linear transformation, which means the same as linear map.\n\n.V; W /\n\n3.3 Notation\n\nL\n\nThe set of all linear maps from V to W is denoted\n\n.V; W /.\n\nL\n\nLet’s look at some examples of linear maps. Make sure you verify that\n\neach of the functions deﬁned below is indeed a linear map:\n\n3.4 Example linear maps\n\nzero In addition to its other uses, we let the symbol 0 denote the function that takes each element of some vector space to the additive identity of another vector .V; W / is deﬁned by space. To be speciﬁc, 0\n\n2 L\n\n0v\n\n0:\n3.2 Deﬁnition linear map\n\nA linear map from V to W is a function T properties:\n\nV\n\nW with the following\n\nW\n\n!\n\nadditivity T .u\n\nv/\n\nT u\n\nT v for all u; v\n\nV ;\n\nC homogeneity T .!v/\n\nD\n\nC\n\n2\n\n!.T v/ for all !\n\nV.\n\nF and all v\n\nD\n\n2\n\n2\n\nNote that for linear maps we often use the notation T v as well as the more standard functional notation T .v/.\n\nSome mathematicians use the term linear transformation, which means the same as linear map.\n\n.V; W /\n\n3.3 Notation\n\nL\n\nThe set of all linear maps from V to W is denoted\n\n.V; W /.\n\nL\n\nLet’s look at some examples of linear maps. Make sure you verify that\n\neach of the functions deﬁned below is indeed a linear map:\n\n3.4 Example linear maps\n\nzero In addition to its other uses, we let the symbol 0 denote the function that takes each element of some vector space to the additive identity of another vector .V; W / is deﬁned by space. To be speciﬁc, 0\n\n2 L\n\n0v\n\n0:"
     ]
    }
   ],
   "source": [
    "query = \"What is a linear map\"\n",
    "llm_chain.run(query)"
   ]
  },
  {
   "cell_type": "code",
   "execution_count": null,
   "metadata": {},
   "outputs": [],
   "source": []
  }
 ],
 "metadata": {
  "kernelspec": {
   "display_name": "dl",
   "language": "python",
   "name": "python3"
  },
  "language_info": {
   "codemirror_mode": {
    "name": "ipython",
    "version": 3
   },
   "file_extension": ".py",
   "mimetype": "text/x-python",
   "name": "python",
   "nbconvert_exporter": "python",
   "pygments_lexer": "ipython3",
   "version": "3.11.4"
  },
  "orig_nbformat": 4
 },
 "nbformat": 4,
 "nbformat_minor": 2
}
