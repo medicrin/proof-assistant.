{
 "cells": [
  {
   "attachments": {},
   "cell_type": "markdown",
   "metadata": {},
   "source": [
    "Direct Search module:\n",
    "\n",
    "- user submits definition request, execute this module to find documents related to it\n",
    "- parse the search into math notation, (maybe provide chat to convert to LaTeX)"
   ]
  },
  {
   "cell_type": "code",
   "execution_count": 12,
   "metadata": {},
   "outputs": [],
   "source": [
    "\n",
    "import os\n",
    "from langchain.embeddings.openai import OpenAIEmbeddings\n",
    "from langchain.vectorstores import Chroma\n",
    "from langchain.text_splitter import CharacterTextSplitter\n",
    "from langchain.document_loaders.directory import DirectoryLoader\n",
    "from langchain.chat_models import ChatOpenAI\n",
    "from langchain.schema import SystemMessage\n",
    "from langchain.prompts import ChatPromptTemplate, HumanMessagePromptTemplate, MessagesPlaceholder\n",
    "from langchain.chains.llm import LLMChain\n",
    "from langchain.memory import ConversationBufferMemory, VectorStoreRetrieverMemory\n",
    "from dotenv import load_dotenv\n",
    "\n",
    "load_dotenv() \n",
    "\n",
    "openai_api_key = os.getenv(\"OPENAI_API_KEY\")"
   ]
  },
  {
   "cell_type": "code",
   "execution_count": 14,
   "metadata": {},
   "outputs": [
    {
     "ename": "TypeError",
     "evalue": "DirectoryLoader.load_file() missing 4 required positional arguments: 'item', 'path', 'docs', and 'pbar'",
     "output_type": "error",
     "traceback": [
      "\u001b[0;31m---------------------------------------------------------------------------\u001b[0m",
      "\u001b[0;31mTypeError\u001b[0m                                 Traceback (most recent call last)",
      "Cell \u001b[0;32mIn[14], line 2\u001b[0m\n\u001b[1;32m      1\u001b[0m loader \u001b[39m=\u001b[39m DirectoryLoader(\u001b[39m'\u001b[39m\u001b[39m../doc/\u001b[39m\u001b[39m'\u001b[39m, glob\u001b[39m=\u001b[39m\u001b[39m'\u001b[39m\u001b[39mdiscrete_math.pdf\u001b[39m\u001b[39m'\u001b[39m)\n\u001b[0;32m----> 2\u001b[0m documents \u001b[39m=\u001b[39m loader\u001b[39m.\u001b[39;49mload_file()\n",
      "\u001b[0;31mTypeError\u001b[0m: DirectoryLoader.load_file() missing 4 required positional arguments: 'item', 'path', 'docs', and 'pbar'"
     ]
    }
   ],
   "source": [
    "loader = DirectoryLoader('../doc/', glob='discrete_math.pdf')\n",
    "documents = loader.load()"
   ]
  },
  {
   "cell_type": "code",
   "execution_count": 8,
   "metadata": {},
   "outputs": [
    {
     "name": "stderr",
     "output_type": "stream",
     "text": [
      "Created a chunk of size 1149, which is longer than the specified 1000\n",
      "Created a chunk of size 1048, which is longer than the specified 1000\n",
      "Created a chunk of size 1109, which is longer than the specified 1000\n"
     ]
    }
   ],
   "source": [
    "# Split Text and create Embeddings and create VectorStore\n",
    "text_splitter = CharacterTextSplitter(chunk_size=1000, chunk_overlap=0)\n",
    "texts = text_splitter.split_documents(documents)\n",
    "# Create embeddings\n",
    "embeddings = OpenAIEmbeddings(openai_api_key=openai_api_key)\n",
    "# load it into Chroma\n",
    "vectorstore = Chroma.from_documents(texts, embeddings)\n"
   ]
  },
  {
   "cell_type": "code",
   "execution_count": 15,
   "metadata": {},
   "outputs": [
    {
     "data": {
      "text/plain": [
       "[Document(page_content='Chapter 3: Linear maps are introduced in this chapter. The key result here is the Fundamental Theorem of Linear Maps (3.22): if T is a linear map on V, then dim V dim range T. Quotient spaces and duality are topics in this chapter at a higher level of abstraction than other parts of the book; these topics can be skipped without running into problems elsewhere in the book.\\n\\n!\\n\\ndim null T\\n\\nD\\n\\nC\\n\\nChapter 4: The part of the theory of polynomials that will be needed to understand linear operators is presented in this chapter. This chapter contains no linear algebra. It can be covered quickly, especially if your students are already familiar with these results.\\n\\n!', metadata={'source': '../doc/math.pdf'}),\n",
       " Document(page_content='Deﬁnition and Examples of Linear Maps 52 Algebraic Operations on Exercises 3.A 57\\n\\n.V; W / 55\\n\\nL\\n\\n3.B Null Spaces and Ranges 59\\n\\nNull Space and Injectivity 59 Range and Surjectivity Fundamental Theorem of Linear Maps 63 Exercises 3.B 67\\n\\n61\\n\\n3.C Matrices\\n\\n70\\n\\nRepresenting a Linear Map by a Matrix Addition and Scalar Multiplication of Matrices 72 Matrix Multiplication 74 Exercises 3.C 78\\n\\n70\\n\\n3.D Invertibility and Isomorphic Vector Spaces\\n\\n80\\n\\nInvertible Linear Maps Isomorphic Vector Spaces 82 Linear Maps Thought of as Matrix Multiplication 84 Operators Exercises 3.D 88\\n\\n80\\n\\n86\\n\\n3.E Products and Quotients of Vector Spaces 91\\n\\nProducts of Vector Spaces 91 Products and Direct Sums 93 Quotients of Vector Spaces 94 Exercises 3.E 98\\n\\nContents\\n\\nvii\\n\\n3.F Duality 101\\n\\nThe Dual Space and the Dual Map The Null Space and Range of the Dual of a Linear Map 104 The Matrix of the Dual of a Linear Map The Rank of a Matrix Exercises 3.F 113\\n\\n101\\n\\n109\\n\\n111\\n\\n4 Polynomials 117', metadata={'source': '../doc/math.pdf'}),\n",
       " Document(page_content='3.2 Deﬁnition linear map\\n\\nA linear map from V to W is a function T properties:\\n\\nV\\n\\nW with the following\\n\\nW\\n\\n!\\n\\nadditivity T .u\\n\\nv/\\n\\nT u\\n\\nT v for all u; v\\n\\nV ;\\n\\nC homogeneity T .!v/\\n\\nD\\n\\nC\\n\\n2\\n\\n!.T v/ for all !\\n\\nV.\\n\\nF and all v\\n\\nD\\n\\n2\\n\\n2\\n\\nNote that for linear maps we often use the notation T v as well as the more standard functional notation T .v/.\\n\\nSome mathematicians use the term linear transformation, which means the same as linear map.\\n\\n.V; W /\\n\\n3.3 Notation\\n\\nL\\n\\nThe set of all linear maps from V to W is denoted\\n\\n.V; W /.\\n\\nL\\n\\nLet’s look at some examples of linear maps. Make sure you verify that\\n\\neach of the functions deﬁned below is indeed a linear map:\\n\\n3.4 Example linear maps\\n\\nzero In addition to its other uses, we let the symbol 0 denote the function that takes each element of some vector space to the additive identity of another vector .V; W / is deﬁned by space. To be speciﬁc, 0\\n\\n2 L\\n\\n0v\\n\\n0:', metadata={'source': '../doc/math.pdf'}),\n",
       " Document(page_content='.V; W / and we identify v\\n\\nV with .T /\\n\\n.v/ .v/.\\n\\n2 L\\n\\n2\\n\\nM M\\n\\nM\\n\\nCHAPTER 3 Linear Maps\\n\\n86\\n\\nBecause the result above allows us to think (via isomorphisms) of each linear map as multiplication on Fn;1 by some matrix A, keep in mind that the speciﬁc matrix A depends not only on the linear map but also on the choice of bases. One of the themes of many of the most important results in later chapters will be the choice of a basis that makes the matrix A as simple as possible.\\n\\nIn this book, we concentrate on linear maps rather than on matrices. How- ever, sometimes thinking of linear maps as matrices (or thinking of matrices as linear maps) gives important insights that we will ﬁnd useful.\\n\\nOperators\\n\\nLinear maps from a vector space to itself are so important that they get a special name and special notation.\\n\\n.V /\\n\\n3.67 Deﬁnition operator,\\n\\nL\\n\\nA linear map from a vector space to itself is called an operator.\\n\\n!\\n\\n.V / denotes the set of all operators on V. In other', metadata={'source': '../doc/math.pdf'})]"
      ]
     },
     "execution_count": 15,
     "metadata": {},
     "output_type": "execute_result"
    }
   ],
   "source": [
    "vectorstore.similarity_search(\"linear maps\", topn=1)"
   ]
  },
  {
   "cell_type": "code",
   "execution_count": null,
   "metadata": {},
   "outputs": [],
   "source": [
    "# we want to recursively search for similar document, "
   ]
  }
 ],
 "metadata": {
  "kernelspec": {
   "display_name": "notebook",
   "language": "python",
   "name": "python3"
  },
  "language_info": {
   "codemirror_mode": {
    "name": "ipython",
    "version": 3
   },
   "file_extension": ".py",
   "mimetype": "text/x-python",
   "name": "python",
   "nbconvert_exporter": "python",
   "pygments_lexer": "ipython3",
   "version": "3.11.4"
  },
  "orig_nbformat": 4
 },
 "nbformat": 4,
 "nbformat_minor": 2
}
